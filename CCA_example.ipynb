{
 "cells": [
  {
   "cell_type": "code",
   "execution_count": 24,
   "id": "d47f92ef",
   "metadata": {},
   "outputs": [],
   "source": [
    "import requests\n",
    "import pandas as pd\n",
    "import numpy as np\n",
    "from sklearn.cross_decomposition import CCA\n",
    "from statsmodels.multivariate import cancorr"
   ]
  },
  {
   "cell_type": "code",
   "execution_count": 2,
   "id": "447662dc",
   "metadata": {},
   "outputs": [],
   "source": [
    "url = r'https://online.stat.psu.edu/onlinecourses/sites/stat505/files/data/sales.txt'\n",
    "response = requests.get(url)\n",
    "file = r'sales.txt'\n",
    "with open(file, 'wb') as f:\n",
    "    f.write(response.content)"
   ]
  },
  {
   "cell_type": "code",
   "execution_count": 3,
   "id": "10158d23",
   "metadata": {},
   "outputs": [],
   "source": [
    "column = ['Sales Growth','Sales Profitability','New Account Sales','Creativity','Mechanical Reasoning','Abstract Reasoning','Mathematics']          \n",
    "with open(file,'rb') as f:\n",
    "    data = f.read()\n",
    "data = data.decode('UTF-8').split('\\r\\n')"
   ]
  },
  {
   "cell_type": "code",
   "execution_count": 4,
   "id": "59198289",
   "metadata": {},
   "outputs": [],
   "source": [
    "temp = []\n",
    "for jj in data:\n",
    "    tempo = []\n",
    "    for ii in jj.split(' '):\n",
    "        if len(ii):\n",
    "            ii = int(float(ii)) if int(float(ii)) == float(ii) else float(ii)\n",
    "            tempo.append(ii)\n",
    "    temp.append(tempo)"
   ]
  },
  {
   "cell_type": "code",
   "execution_count": 17,
   "id": "7b10eb49",
   "metadata": {},
   "outputs": [
    {
     "data": {
      "text/html": [
       "<div>\n",
       "<style scoped>\n",
       "    .dataframe tbody tr th:only-of-type {\n",
       "        vertical-align: middle;\n",
       "    }\n",
       "\n",
       "    .dataframe tbody tr th {\n",
       "        vertical-align: top;\n",
       "    }\n",
       "\n",
       "    .dataframe thead th {\n",
       "        text-align: right;\n",
       "    }\n",
       "</style>\n",
       "<table border=\"1\" class=\"dataframe\">\n",
       "  <thead>\n",
       "    <tr style=\"text-align: right;\">\n",
       "      <th></th>\n",
       "      <th>Sales Growth</th>\n",
       "      <th>Sales Profitability</th>\n",
       "      <th>New Account Sales</th>\n",
       "      <th>Creativity</th>\n",
       "      <th>Mechanical Reasoning</th>\n",
       "      <th>Abstract Reasoning</th>\n",
       "      <th>Mathematics</th>\n",
       "    </tr>\n",
       "  </thead>\n",
       "  <tbody>\n",
       "    <tr>\n",
       "      <th>0</th>\n",
       "      <td>93.0</td>\n",
       "      <td>96.0</td>\n",
       "      <td>97.8</td>\n",
       "      <td>9.0</td>\n",
       "      <td>12.0</td>\n",
       "      <td>9.0</td>\n",
       "      <td>20.0</td>\n",
       "    </tr>\n",
       "    <tr>\n",
       "      <th>1</th>\n",
       "      <td>88.8</td>\n",
       "      <td>91.8</td>\n",
       "      <td>96.8</td>\n",
       "      <td>7.0</td>\n",
       "      <td>10.0</td>\n",
       "      <td>10.0</td>\n",
       "      <td>15.0</td>\n",
       "    </tr>\n",
       "    <tr>\n",
       "      <th>2</th>\n",
       "      <td>95.0</td>\n",
       "      <td>100.3</td>\n",
       "      <td>99.0</td>\n",
       "      <td>8.0</td>\n",
       "      <td>12.0</td>\n",
       "      <td>9.0</td>\n",
       "      <td>26.0</td>\n",
       "    </tr>\n",
       "    <tr>\n",
       "      <th>3</th>\n",
       "      <td>101.3</td>\n",
       "      <td>103.8</td>\n",
       "      <td>106.8</td>\n",
       "      <td>13.0</td>\n",
       "      <td>14.0</td>\n",
       "      <td>12.0</td>\n",
       "      <td>29.0</td>\n",
       "    </tr>\n",
       "    <tr>\n",
       "      <th>4</th>\n",
       "      <td>102.0</td>\n",
       "      <td>107.8</td>\n",
       "      <td>103.0</td>\n",
       "      <td>10.0</td>\n",
       "      <td>15.0</td>\n",
       "      <td>12.0</td>\n",
       "      <td>32.0</td>\n",
       "    </tr>\n",
       "  </tbody>\n",
       "</table>\n",
       "</div>"
      ],
      "text/plain": [
       "   Sales Growth  Sales Profitability  New Account Sales  Creativity  \\\n",
       "0          93.0                 96.0               97.8         9.0   \n",
       "1          88.8                 91.8               96.8         7.0   \n",
       "2          95.0                100.3               99.0         8.0   \n",
       "3         101.3                103.8              106.8        13.0   \n",
       "4         102.0                107.8              103.0        10.0   \n",
       "\n",
       "   Mechanical Reasoning  Abstract Reasoning  Mathematics  \n",
       "0                  12.0                 9.0         20.0  \n",
       "1                  10.0                10.0         15.0  \n",
       "2                  12.0                 9.0         26.0  \n",
       "3                  14.0                12.0         29.0  \n",
       "4                  15.0                12.0         32.0  "
      ]
     },
     "execution_count": 17,
     "metadata": {},
     "output_type": "execute_result"
    }
   ],
   "source": [
    "df = pd.DataFrame(temp,columns=column)\n",
    "df = df.dropna()\n",
    "df.head()"
   ]
  },
  {
   "cell_type": "code",
   "execution_count": 18,
   "id": "72e252bf",
   "metadata": {},
   "outputs": [
    {
     "data": {
      "text/html": [
       "<div>\n",
       "<style scoped>\n",
       "    .dataframe tbody tr th:only-of-type {\n",
       "        vertical-align: middle;\n",
       "    }\n",
       "\n",
       "    .dataframe tbody tr th {\n",
       "        vertical-align: top;\n",
       "    }\n",
       "\n",
       "    .dataframe thead th {\n",
       "        text-align: right;\n",
       "    }\n",
       "</style>\n",
       "<table border=\"1\" class=\"dataframe\">\n",
       "  <thead>\n",
       "    <tr style=\"text-align: right;\">\n",
       "      <th></th>\n",
       "      <th>Sales Growth</th>\n",
       "      <th>Sales Profitability</th>\n",
       "      <th>New Account Sales</th>\n",
       "      <th>Creativity</th>\n",
       "      <th>Mechanical Reasoning</th>\n",
       "      <th>Abstract Reasoning</th>\n",
       "      <th>Mathematics</th>\n",
       "    </tr>\n",
       "  </thead>\n",
       "  <tbody>\n",
       "    <tr>\n",
       "      <th>45</th>\n",
       "      <td>103.5</td>\n",
       "      <td>112.0</td>\n",
       "      <td>110.8</td>\n",
       "      <td>18.0</td>\n",
       "      <td>13.0</td>\n",
       "      <td>12.0</td>\n",
       "      <td>37.0</td>\n",
       "    </tr>\n",
       "    <tr>\n",
       "      <th>46</th>\n",
       "      <td>89.5</td>\n",
       "      <td>96.0</td>\n",
       "      <td>97.3</td>\n",
       "      <td>7.0</td>\n",
       "      <td>15.0</td>\n",
       "      <td>11.0</td>\n",
       "      <td>14.0</td>\n",
       "    </tr>\n",
       "    <tr>\n",
       "      <th>47</th>\n",
       "      <td>84.3</td>\n",
       "      <td>89.8</td>\n",
       "      <td>94.3</td>\n",
       "      <td>8.0</td>\n",
       "      <td>8.0</td>\n",
       "      <td>8.0</td>\n",
       "      <td>9.0</td>\n",
       "    </tr>\n",
       "    <tr>\n",
       "      <th>48</th>\n",
       "      <td>104.3</td>\n",
       "      <td>109.5</td>\n",
       "      <td>106.5</td>\n",
       "      <td>14.0</td>\n",
       "      <td>12.0</td>\n",
       "      <td>12.0</td>\n",
       "      <td>36.0</td>\n",
       "    </tr>\n",
       "    <tr>\n",
       "      <th>49</th>\n",
       "      <td>106.0</td>\n",
       "      <td>118.5</td>\n",
       "      <td>105.0</td>\n",
       "      <td>12.0</td>\n",
       "      <td>16.0</td>\n",
       "      <td>11.0</td>\n",
       "      <td>39.0</td>\n",
       "    </tr>\n",
       "  </tbody>\n",
       "</table>\n",
       "</div>"
      ],
      "text/plain": [
       "    Sales Growth  Sales Profitability  New Account Sales  Creativity  \\\n",
       "45         103.5                112.0              110.8        18.0   \n",
       "46          89.5                 96.0               97.3         7.0   \n",
       "47          84.3                 89.8               94.3         8.0   \n",
       "48         104.3                109.5              106.5        14.0   \n",
       "49         106.0                118.5              105.0        12.0   \n",
       "\n",
       "    Mechanical Reasoning  Abstract Reasoning  Mathematics  \n",
       "45                  13.0                12.0         37.0  \n",
       "46                  15.0                11.0         14.0  \n",
       "47                   8.0                 8.0          9.0  \n",
       "48                  12.0                12.0         36.0  \n",
       "49                  16.0                11.0         39.0  "
      ]
     },
     "execution_count": 18,
     "metadata": {},
     "output_type": "execute_result"
    }
   ],
   "source": [
    "df.tail()"
   ]
  },
  {
   "cell_type": "code",
   "execution_count": 21,
   "id": "11d60011",
   "metadata": {},
   "outputs": [
    {
     "data": {
      "text/html": [
       "<div>\n",
       "<style scoped>\n",
       "    .dataframe tbody tr th:only-of-type {\n",
       "        vertical-align: middle;\n",
       "    }\n",
       "\n",
       "    .dataframe tbody tr th {\n",
       "        vertical-align: top;\n",
       "    }\n",
       "\n",
       "    .dataframe thead th {\n",
       "        text-align: right;\n",
       "    }\n",
       "</style>\n",
       "<table border=\"1\" class=\"dataframe\">\n",
       "  <thead>\n",
       "    <tr style=\"text-align: right;\">\n",
       "      <th></th>\n",
       "      <th>Sales Growth</th>\n",
       "      <th>Sales Profitability</th>\n",
       "      <th>New Account Sales</th>\n",
       "    </tr>\n",
       "  </thead>\n",
       "  <tbody>\n",
       "    <tr>\n",
       "      <th>0</th>\n",
       "      <td>93.0</td>\n",
       "      <td>96.0</td>\n",
       "      <td>97.8</td>\n",
       "    </tr>\n",
       "    <tr>\n",
       "      <th>1</th>\n",
       "      <td>88.8</td>\n",
       "      <td>91.8</td>\n",
       "      <td>96.8</td>\n",
       "    </tr>\n",
       "    <tr>\n",
       "      <th>2</th>\n",
       "      <td>95.0</td>\n",
       "      <td>100.3</td>\n",
       "      <td>99.0</td>\n",
       "    </tr>\n",
       "    <tr>\n",
       "      <th>3</th>\n",
       "      <td>101.3</td>\n",
       "      <td>103.8</td>\n",
       "      <td>106.8</td>\n",
       "    </tr>\n",
       "    <tr>\n",
       "      <th>4</th>\n",
       "      <td>102.0</td>\n",
       "      <td>107.8</td>\n",
       "      <td>103.0</td>\n",
       "    </tr>\n",
       "  </tbody>\n",
       "</table>\n",
       "</div>"
      ],
      "text/plain": [
       "   Sales Growth  Sales Profitability  New Account Sales\n",
       "0          93.0                 96.0               97.8\n",
       "1          88.8                 91.8               96.8\n",
       "2          95.0                100.3               99.0\n",
       "3         101.3                103.8              106.8\n",
       "4         102.0                107.8              103.0"
      ]
     },
     "execution_count": 21,
     "metadata": {},
     "output_type": "execute_result"
    }
   ],
   "source": [
    "Xdf = df[df.columns[:3]]\n",
    "Xdf.head()"
   ]
  },
  {
   "cell_type": "code",
   "execution_count": 22,
   "id": "2182f527",
   "metadata": {},
   "outputs": [
    {
     "data": {
      "text/html": [
       "<div>\n",
       "<style scoped>\n",
       "    .dataframe tbody tr th:only-of-type {\n",
       "        vertical-align: middle;\n",
       "    }\n",
       "\n",
       "    .dataframe tbody tr th {\n",
       "        vertical-align: top;\n",
       "    }\n",
       "\n",
       "    .dataframe thead th {\n",
       "        text-align: right;\n",
       "    }\n",
       "</style>\n",
       "<table border=\"1\" class=\"dataframe\">\n",
       "  <thead>\n",
       "    <tr style=\"text-align: right;\">\n",
       "      <th></th>\n",
       "      <th>Creativity</th>\n",
       "      <th>Mechanical Reasoning</th>\n",
       "      <th>Abstract Reasoning</th>\n",
       "      <th>Mathematics</th>\n",
       "    </tr>\n",
       "  </thead>\n",
       "  <tbody>\n",
       "    <tr>\n",
       "      <th>0</th>\n",
       "      <td>9.0</td>\n",
       "      <td>12.0</td>\n",
       "      <td>9.0</td>\n",
       "      <td>20.0</td>\n",
       "    </tr>\n",
       "    <tr>\n",
       "      <th>1</th>\n",
       "      <td>7.0</td>\n",
       "      <td>10.0</td>\n",
       "      <td>10.0</td>\n",
       "      <td>15.0</td>\n",
       "    </tr>\n",
       "    <tr>\n",
       "      <th>2</th>\n",
       "      <td>8.0</td>\n",
       "      <td>12.0</td>\n",
       "      <td>9.0</td>\n",
       "      <td>26.0</td>\n",
       "    </tr>\n",
       "    <tr>\n",
       "      <th>3</th>\n",
       "      <td>13.0</td>\n",
       "      <td>14.0</td>\n",
       "      <td>12.0</td>\n",
       "      <td>29.0</td>\n",
       "    </tr>\n",
       "    <tr>\n",
       "      <th>4</th>\n",
       "      <td>10.0</td>\n",
       "      <td>15.0</td>\n",
       "      <td>12.0</td>\n",
       "      <td>32.0</td>\n",
       "    </tr>\n",
       "  </tbody>\n",
       "</table>\n",
       "</div>"
      ],
      "text/plain": [
       "   Creativity  Mechanical Reasoning  Abstract Reasoning  Mathematics\n",
       "0         9.0                  12.0                 9.0         20.0\n",
       "1         7.0                  10.0                10.0         15.0\n",
       "2         8.0                  12.0                 9.0         26.0\n",
       "3        13.0                  14.0                12.0         29.0\n",
       "4        10.0                  15.0                12.0         32.0"
      ]
     },
     "execution_count": 22,
     "metadata": {},
     "output_type": "execute_result"
    }
   ],
   "source": [
    "Ydf = df[df.columns[3:]]\n",
    "Ydf.head()"
   ]
  },
  {
   "cell_type": "code",
   "execution_count": 29,
   "id": "a27895f3",
   "metadata": {},
   "outputs": [],
   "source": [
    "test=cancorr.CanCorr(Xdf.to_numpy(),Ydf.to_numpy())"
   ]
  },
  {
   "cell_type": "code",
   "execution_count": 31,
   "id": "9971e694",
   "metadata": {},
   "outputs": [
    {
     "data": {
      "text/plain": [
       "array([[-0.00996402,  0.02748447,  0.03522237],\n",
       "       [-0.00439119, -0.02879634, -0.02027075],\n",
       "       [-0.01279488,  0.07082332, -0.04003201],\n",
       "       [-0.00897571, -0.00975944,  0.00161894]])"
      ]
     },
     "execution_count": 31,
     "metadata": {},
     "output_type": "execute_result"
    }
   ],
   "source": [
    "test.x_cancoef"
   ]
  },
  {
   "cell_type": "code",
   "execution_count": 40,
   "id": "fc90d000",
   "metadata": {},
   "outputs": [
    {
     "data": {
      "text/plain": [
       "array([[-0.00891113,  0.02486719, -0.05387899],\n",
       "       [-0.00298938, -0.03459487,  0.01478786],\n",
       "       [-0.01117974,  0.034042  ,  0.05477358]])"
      ]
     },
     "execution_count": 40,
     "metadata": {},
     "output_type": "execute_result"
    }
   ],
   "source": [
    "test.y_cancoef"
   ]
  },
  {
   "cell_type": "code",
   "execution_count": null,
   "id": "2e205fd4",
   "metadata": {},
   "outputs": [],
   "source": []
  },
  {
   "cell_type": "code",
   "execution_count": null,
   "id": "5ba8b1ec",
   "metadata": {},
   "outputs": [],
   "source": []
  },
  {
   "cell_type": "code",
   "execution_count": null,
   "id": "a1a0e10e",
   "metadata": {},
   "outputs": [],
   "source": []
  },
  {
   "cell_type": "code",
   "execution_count": null,
   "id": "f968b97c",
   "metadata": {},
   "outputs": [],
   "source": []
  },
  {
   "cell_type": "code",
   "execution_count": null,
   "id": "e8e2e589",
   "metadata": {},
   "outputs": [],
   "source": []
  },
  {
   "cell_type": "code",
   "execution_count": null,
   "id": "e6c0e7f0",
   "metadata": {},
   "outputs": [],
   "source": []
  },
  {
   "cell_type": "code",
   "execution_count": null,
   "id": "c0a3d5ee",
   "metadata": {},
   "outputs": [],
   "source": []
  },
  {
   "cell_type": "code",
   "execution_count": null,
   "id": "80646518",
   "metadata": {},
   "outputs": [],
   "source": []
  },
  {
   "cell_type": "code",
   "execution_count": null,
   "id": "42b77985",
   "metadata": {},
   "outputs": [],
   "source": []
  },
  {
   "cell_type": "code",
   "execution_count": null,
   "id": "02da4a1e",
   "metadata": {},
   "outputs": [],
   "source": []
  },
  {
   "cell_type": "code",
   "execution_count": null,
   "id": "a0afc8c1",
   "metadata": {},
   "outputs": [],
   "source": []
  },
  {
   "cell_type": "code",
   "execution_count": null,
   "id": "a86e708b",
   "metadata": {},
   "outputs": [],
   "source": []
  },
  {
   "cell_type": "code",
   "execution_count": null,
   "id": "2fb734e0",
   "metadata": {},
   "outputs": [],
   "source": []
  },
  {
   "cell_type": "code",
   "execution_count": null,
   "id": "f0cc97cb",
   "metadata": {},
   "outputs": [],
   "source": []
  },
  {
   "cell_type": "code",
   "execution_count": null,
   "id": "83029e52",
   "metadata": {},
   "outputs": [],
   "source": []
  }
 ],
 "metadata": {
  "kernelspec": {
   "display_name": "Python 3",
   "language": "python",
   "name": "python3"
  },
  "language_info": {
   "codemirror_mode": {
    "name": "ipython",
    "version": 3
   },
   "file_extension": ".py",
   "mimetype": "text/x-python",
   "name": "python",
   "nbconvert_exporter": "python",
   "pygments_lexer": "ipython3",
   "version": "3.8.8"
  }
 },
 "nbformat": 4,
 "nbformat_minor": 5
}
