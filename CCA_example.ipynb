{
 "cells": [
  {
   "cell_type": "code",
   "execution_count": 1,
   "id": "d0d40976",
   "metadata": {},
   "outputs": [],
   "source": [
    "import requests\n",
    "import pandas as pd\n",
    "import numpy as np\n",
    "from sklearn.cross_decomposition import CCA\n",
    "from statsmodels.multivariate import cancorr\n",
    "from statsmodels.multivariate.manova import MANOVA\n",
    "from sklearn.preprocessing import StandardScaler\n",
    "import matplotlib.pyplot as plt\n",
    "import scipy.stats\n",
    "import seaborn as sns\n",
    "# import pyrcca\n",
    "# import scipy.stats.mstats as mstats"
   ]
  },
  {
   "cell_type": "code",
   "execution_count": 2,
   "id": "6bc8364f",
   "metadata": {},
   "outputs": [],
   "source": [
    "url = r'https://online.stat.psu.edu/onlinecourses/sites/stat505/files/data/sales.txt'\n",
    "response = requests.get(url)\n",
    "file = r'sales.txt'\n",
    "with open(file, 'wb') as f:\n",
    "    f.write(response.content)"
   ]
  },
  {
   "cell_type": "code",
   "execution_count": 3,
   "id": "e9d65d8a",
   "metadata": {},
   "outputs": [],
   "source": [
    "column = ['Sales Growth','Sales Profitability','New Account Sales','Creativity','Mechanical Reasoning','Abstract Reasoning','Mathematics']          \n",
    "with open(file,'rb') as f:\n",
    "    data = f.read()\n",
    "data = data.decode('UTF-8').split('\\r\\n')"
   ]
  },
  {
   "cell_type": "code",
   "execution_count": 4,
   "id": "f42d8a5f",
   "metadata": {},
   "outputs": [],
   "source": [
    "temp = []\n",
    "for jj in data:\n",
    "    tempo = []\n",
    "    for ii in jj.split(' '):\n",
    "        if len(ii):\n",
    "            ii = int(float(ii)) if int(float(ii)) == float(ii) else float(ii)\n",
    "            tempo.append(ii)\n",
    "    temp.append(tempo)"
   ]
  },
  {
   "cell_type": "code",
   "execution_count": 5,
   "id": "45ccf409",
   "metadata": {},
   "outputs": [
    {
     "data": {
      "text/html": [
       "<div>\n",
       "<style scoped>\n",
       "    .dataframe tbody tr th:only-of-type {\n",
       "        vertical-align: middle;\n",
       "    }\n",
       "\n",
       "    .dataframe tbody tr th {\n",
       "        vertical-align: top;\n",
       "    }\n",
       "\n",
       "    .dataframe thead th {\n",
       "        text-align: right;\n",
       "    }\n",
       "</style>\n",
       "<table border=\"1\" class=\"dataframe\">\n",
       "  <thead>\n",
       "    <tr style=\"text-align: right;\">\n",
       "      <th></th>\n",
       "      <th>Sales Growth</th>\n",
       "      <th>Sales Profitability</th>\n",
       "      <th>New Account Sales</th>\n",
       "      <th>Creativity</th>\n",
       "      <th>Mechanical Reasoning</th>\n",
       "      <th>Abstract Reasoning</th>\n",
       "      <th>Mathematics</th>\n",
       "    </tr>\n",
       "  </thead>\n",
       "  <tbody>\n",
       "    <tr>\n",
       "      <th>0</th>\n",
       "      <td>93.0</td>\n",
       "      <td>96.0</td>\n",
       "      <td>97.8</td>\n",
       "      <td>9.0</td>\n",
       "      <td>12.0</td>\n",
       "      <td>9.0</td>\n",
       "      <td>20.0</td>\n",
       "    </tr>\n",
       "    <tr>\n",
       "      <th>1</th>\n",
       "      <td>88.8</td>\n",
       "      <td>91.8</td>\n",
       "      <td>96.8</td>\n",
       "      <td>7.0</td>\n",
       "      <td>10.0</td>\n",
       "      <td>10.0</td>\n",
       "      <td>15.0</td>\n",
       "    </tr>\n",
       "    <tr>\n",
       "      <th>2</th>\n",
       "      <td>95.0</td>\n",
       "      <td>100.3</td>\n",
       "      <td>99.0</td>\n",
       "      <td>8.0</td>\n",
       "      <td>12.0</td>\n",
       "      <td>9.0</td>\n",
       "      <td>26.0</td>\n",
       "    </tr>\n",
       "    <tr>\n",
       "      <th>3</th>\n",
       "      <td>101.3</td>\n",
       "      <td>103.8</td>\n",
       "      <td>106.8</td>\n",
       "      <td>13.0</td>\n",
       "      <td>14.0</td>\n",
       "      <td>12.0</td>\n",
       "      <td>29.0</td>\n",
       "    </tr>\n",
       "    <tr>\n",
       "      <th>4</th>\n",
       "      <td>102.0</td>\n",
       "      <td>107.8</td>\n",
       "      <td>103.0</td>\n",
       "      <td>10.0</td>\n",
       "      <td>15.0</td>\n",
       "      <td>12.0</td>\n",
       "      <td>32.0</td>\n",
       "    </tr>\n",
       "  </tbody>\n",
       "</table>\n",
       "</div>"
      ],
      "text/plain": [
       "   Sales Growth  Sales Profitability  New Account Sales  Creativity  \\\n",
       "0          93.0                 96.0               97.8         9.0   \n",
       "1          88.8                 91.8               96.8         7.0   \n",
       "2          95.0                100.3               99.0         8.0   \n",
       "3         101.3                103.8              106.8        13.0   \n",
       "4         102.0                107.8              103.0        10.0   \n",
       "\n",
       "   Mechanical Reasoning  Abstract Reasoning  Mathematics  \n",
       "0                  12.0                 9.0         20.0  \n",
       "1                  10.0                10.0         15.0  \n",
       "2                  12.0                 9.0         26.0  \n",
       "3                  14.0                12.0         29.0  \n",
       "4                  15.0                12.0         32.0  "
      ]
     },
     "execution_count": 5,
     "metadata": {},
     "output_type": "execute_result"
    }
   ],
   "source": [
    "df = pd.DataFrame(temp,columns=column)\n",
    "df = df.dropna()\n",
    "df.head()"
   ]
  },
  {
   "cell_type": "code",
   "execution_count": 6,
   "id": "53c7f10d",
   "metadata": {},
   "outputs": [
    {
     "data": {
      "text/html": [
       "<div>\n",
       "<style scoped>\n",
       "    .dataframe tbody tr th:only-of-type {\n",
       "        vertical-align: middle;\n",
       "    }\n",
       "\n",
       "    .dataframe tbody tr th {\n",
       "        vertical-align: top;\n",
       "    }\n",
       "\n",
       "    .dataframe thead th {\n",
       "        text-align: right;\n",
       "    }\n",
       "</style>\n",
       "<table border=\"1\" class=\"dataframe\">\n",
       "  <thead>\n",
       "    <tr style=\"text-align: right;\">\n",
       "      <th></th>\n",
       "      <th>Sales Growth</th>\n",
       "      <th>Sales Profitability</th>\n",
       "      <th>New Account Sales</th>\n",
       "      <th>Creativity</th>\n",
       "      <th>Mechanical Reasoning</th>\n",
       "      <th>Abstract Reasoning</th>\n",
       "      <th>Mathematics</th>\n",
       "    </tr>\n",
       "  </thead>\n",
       "  <tbody>\n",
       "    <tr>\n",
       "      <th>45</th>\n",
       "      <td>103.5</td>\n",
       "      <td>112.0</td>\n",
       "      <td>110.8</td>\n",
       "      <td>18.0</td>\n",
       "      <td>13.0</td>\n",
       "      <td>12.0</td>\n",
       "      <td>37.0</td>\n",
       "    </tr>\n",
       "    <tr>\n",
       "      <th>46</th>\n",
       "      <td>89.5</td>\n",
       "      <td>96.0</td>\n",
       "      <td>97.3</td>\n",
       "      <td>7.0</td>\n",
       "      <td>15.0</td>\n",
       "      <td>11.0</td>\n",
       "      <td>14.0</td>\n",
       "    </tr>\n",
       "    <tr>\n",
       "      <th>47</th>\n",
       "      <td>84.3</td>\n",
       "      <td>89.8</td>\n",
       "      <td>94.3</td>\n",
       "      <td>8.0</td>\n",
       "      <td>8.0</td>\n",
       "      <td>8.0</td>\n",
       "      <td>9.0</td>\n",
       "    </tr>\n",
       "    <tr>\n",
       "      <th>48</th>\n",
       "      <td>104.3</td>\n",
       "      <td>109.5</td>\n",
       "      <td>106.5</td>\n",
       "      <td>14.0</td>\n",
       "      <td>12.0</td>\n",
       "      <td>12.0</td>\n",
       "      <td>36.0</td>\n",
       "    </tr>\n",
       "    <tr>\n",
       "      <th>49</th>\n",
       "      <td>106.0</td>\n",
       "      <td>118.5</td>\n",
       "      <td>105.0</td>\n",
       "      <td>12.0</td>\n",
       "      <td>16.0</td>\n",
       "      <td>11.0</td>\n",
       "      <td>39.0</td>\n",
       "    </tr>\n",
       "  </tbody>\n",
       "</table>\n",
       "</div>"
      ],
      "text/plain": [
       "    Sales Growth  Sales Profitability  New Account Sales  Creativity  \\\n",
       "45         103.5                112.0              110.8        18.0   \n",
       "46          89.5                 96.0               97.3         7.0   \n",
       "47          84.3                 89.8               94.3         8.0   \n",
       "48         104.3                109.5              106.5        14.0   \n",
       "49         106.0                118.5              105.0        12.0   \n",
       "\n",
       "    Mechanical Reasoning  Abstract Reasoning  Mathematics  \n",
       "45                  13.0                12.0         37.0  \n",
       "46                  15.0                11.0         14.0  \n",
       "47                   8.0                 8.0          9.0  \n",
       "48                  12.0                12.0         36.0  \n",
       "49                  16.0                11.0         39.0  "
      ]
     },
     "execution_count": 6,
     "metadata": {},
     "output_type": "execute_result"
    }
   ],
   "source": [
    "df.tail()"
   ]
  },
  {
   "cell_type": "code",
   "execution_count": 7,
   "id": "503646e1",
   "metadata": {},
   "outputs": [
    {
     "data": {
      "text/html": [
       "<div>\n",
       "<style scoped>\n",
       "    .dataframe tbody tr th:only-of-type {\n",
       "        vertical-align: middle;\n",
       "    }\n",
       "\n",
       "    .dataframe tbody tr th {\n",
       "        vertical-align: top;\n",
       "    }\n",
       "\n",
       "    .dataframe thead th {\n",
       "        text-align: right;\n",
       "    }\n",
       "</style>\n",
       "<table border=\"1\" class=\"dataframe\">\n",
       "  <thead>\n",
       "    <tr style=\"text-align: right;\">\n",
       "      <th></th>\n",
       "      <th>Sales Growth</th>\n",
       "      <th>Sales Profitability</th>\n",
       "      <th>New Account Sales</th>\n",
       "    </tr>\n",
       "  </thead>\n",
       "  <tbody>\n",
       "    <tr>\n",
       "      <th>0</th>\n",
       "      <td>93.0</td>\n",
       "      <td>96.0</td>\n",
       "      <td>97.8</td>\n",
       "    </tr>\n",
       "    <tr>\n",
       "      <th>1</th>\n",
       "      <td>88.8</td>\n",
       "      <td>91.8</td>\n",
       "      <td>96.8</td>\n",
       "    </tr>\n",
       "    <tr>\n",
       "      <th>2</th>\n",
       "      <td>95.0</td>\n",
       "      <td>100.3</td>\n",
       "      <td>99.0</td>\n",
       "    </tr>\n",
       "    <tr>\n",
       "      <th>3</th>\n",
       "      <td>101.3</td>\n",
       "      <td>103.8</td>\n",
       "      <td>106.8</td>\n",
       "    </tr>\n",
       "    <tr>\n",
       "      <th>4</th>\n",
       "      <td>102.0</td>\n",
       "      <td>107.8</td>\n",
       "      <td>103.0</td>\n",
       "    </tr>\n",
       "  </tbody>\n",
       "</table>\n",
       "</div>"
      ],
      "text/plain": [
       "   Sales Growth  Sales Profitability  New Account Sales\n",
       "0          93.0                 96.0               97.8\n",
       "1          88.8                 91.8               96.8\n",
       "2          95.0                100.3               99.0\n",
       "3         101.3                103.8              106.8\n",
       "4         102.0                107.8              103.0"
      ]
     },
     "execution_count": 7,
     "metadata": {},
     "output_type": "execute_result"
    }
   ],
   "source": [
    "Xdf = df[df.columns[:3]]\n",
    "Xdf.head()"
   ]
  },
  {
   "cell_type": "code",
   "execution_count": 8,
   "id": "258bcb57",
   "metadata": {},
   "outputs": [
    {
     "data": {
      "text/html": [
       "<div>\n",
       "<style scoped>\n",
       "    .dataframe tbody tr th:only-of-type {\n",
       "        vertical-align: middle;\n",
       "    }\n",
       "\n",
       "    .dataframe tbody tr th {\n",
       "        vertical-align: top;\n",
       "    }\n",
       "\n",
       "    .dataframe thead th {\n",
       "        text-align: right;\n",
       "    }\n",
       "</style>\n",
       "<table border=\"1\" class=\"dataframe\">\n",
       "  <thead>\n",
       "    <tr style=\"text-align: right;\">\n",
       "      <th></th>\n",
       "      <th>Creativity</th>\n",
       "      <th>Mechanical Reasoning</th>\n",
       "      <th>Abstract Reasoning</th>\n",
       "      <th>Mathematics</th>\n",
       "    </tr>\n",
       "  </thead>\n",
       "  <tbody>\n",
       "    <tr>\n",
       "      <th>0</th>\n",
       "      <td>9.0</td>\n",
       "      <td>12.0</td>\n",
       "      <td>9.0</td>\n",
       "      <td>20.0</td>\n",
       "    </tr>\n",
       "    <tr>\n",
       "      <th>1</th>\n",
       "      <td>7.0</td>\n",
       "      <td>10.0</td>\n",
       "      <td>10.0</td>\n",
       "      <td>15.0</td>\n",
       "    </tr>\n",
       "    <tr>\n",
       "      <th>2</th>\n",
       "      <td>8.0</td>\n",
       "      <td>12.0</td>\n",
       "      <td>9.0</td>\n",
       "      <td>26.0</td>\n",
       "    </tr>\n",
       "    <tr>\n",
       "      <th>3</th>\n",
       "      <td>13.0</td>\n",
       "      <td>14.0</td>\n",
       "      <td>12.0</td>\n",
       "      <td>29.0</td>\n",
       "    </tr>\n",
       "    <tr>\n",
       "      <th>4</th>\n",
       "      <td>10.0</td>\n",
       "      <td>15.0</td>\n",
       "      <td>12.0</td>\n",
       "      <td>32.0</td>\n",
       "    </tr>\n",
       "  </tbody>\n",
       "</table>\n",
       "</div>"
      ],
      "text/plain": [
       "   Creativity  Mechanical Reasoning  Abstract Reasoning  Mathematics\n",
       "0         9.0                  12.0                 9.0         20.0\n",
       "1         7.0                  10.0                10.0         15.0\n",
       "2         8.0                  12.0                 9.0         26.0\n",
       "3        13.0                  14.0                12.0         29.0\n",
       "4        10.0                  15.0                12.0         32.0"
      ]
     },
     "execution_count": 8,
     "metadata": {},
     "output_type": "execute_result"
    }
   ],
   "source": [
    "Ydf = df[df.columns[3:]]\n",
    "Ydf.head()"
   ]
  },
  {
   "cell_type": "code",
   "execution_count": 9,
   "id": "7ae4ad2c",
   "metadata": {},
   "outputs": [
    {
     "data": {
      "text/html": [
       "<div>\n",
       "<style scoped>\n",
       "    .dataframe tbody tr th:only-of-type {\n",
       "        vertical-align: middle;\n",
       "    }\n",
       "\n",
       "    .dataframe tbody tr th {\n",
       "        vertical-align: top;\n",
       "    }\n",
       "\n",
       "    .dataframe thead th {\n",
       "        text-align: right;\n",
       "    }\n",
       "</style>\n",
       "<table border=\"1\" class=\"dataframe\">\n",
       "  <thead>\n",
       "    <tr style=\"text-align: right;\">\n",
       "      <th></th>\n",
       "      <th>Sales Growth</th>\n",
       "      <th>Sales Profitability</th>\n",
       "      <th>New Account Sales</th>\n",
       "    </tr>\n",
       "  </thead>\n",
       "  <tbody>\n",
       "    <tr>\n",
       "      <th>0</th>\n",
       "      <td>-0.795383</td>\n",
       "      <td>-1.049157</td>\n",
       "      <td>-1.063194</td>\n",
       "    </tr>\n",
       "    <tr>\n",
       "      <th>1</th>\n",
       "      <td>-1.367797</td>\n",
       "      <td>-1.464000</td>\n",
       "      <td>-1.275408</td>\n",
       "    </tr>\n",
       "    <tr>\n",
       "      <th>2</th>\n",
       "      <td>-0.522805</td>\n",
       "      <td>-0.624437</td>\n",
       "      <td>-0.808536</td>\n",
       "    </tr>\n",
       "    <tr>\n",
       "      <th>3</th>\n",
       "      <td>0.335816</td>\n",
       "      <td>-0.278735</td>\n",
       "      <td>0.846735</td>\n",
       "    </tr>\n",
       "    <tr>\n",
       "      <th>4</th>\n",
       "      <td>0.431219</td>\n",
       "      <td>0.116354</td>\n",
       "      <td>0.040321</td>\n",
       "    </tr>\n",
       "  </tbody>\n",
       "</table>\n",
       "</div>"
      ],
      "text/plain": [
       "   Sales Growth  Sales Profitability  New Account Sales\n",
       "0     -0.795383            -1.049157          -1.063194\n",
       "1     -1.367797            -1.464000          -1.275408\n",
       "2     -0.522805            -0.624437          -0.808536\n",
       "3      0.335816            -0.278735           0.846735\n",
       "4      0.431219             0.116354           0.040321"
      ]
     },
     "execution_count": 9,
     "metadata": {},
     "output_type": "execute_result"
    }
   ],
   "source": [
    "Xdf_n = (Xdf-Xdf.mean())/(Xdf.std())\n",
    "Xdf_n.head()"
   ]
  },
  {
   "cell_type": "code",
   "execution_count": 10,
   "id": "b9e7d6ed",
   "metadata": {},
   "outputs": [
    {
     "data": {
      "text/html": [
       "<div>\n",
       "<style scoped>\n",
       "    .dataframe tbody tr th:only-of-type {\n",
       "        vertical-align: middle;\n",
       "    }\n",
       "\n",
       "    .dataframe tbody tr th {\n",
       "        vertical-align: top;\n",
       "    }\n",
       "\n",
       "    .dataframe thead th {\n",
       "        text-align: right;\n",
       "    }\n",
       "</style>\n",
       "<table border=\"1\" class=\"dataframe\">\n",
       "  <thead>\n",
       "    <tr style=\"text-align: right;\">\n",
       "      <th></th>\n",
       "      <th>Creativity</th>\n",
       "      <th>Mechanical Reasoning</th>\n",
       "      <th>Abstract Reasoning</th>\n",
       "      <th>Mathematics</th>\n",
       "    </tr>\n",
       "  </thead>\n",
       "  <tbody>\n",
       "    <tr>\n",
       "      <th>0</th>\n",
       "      <td>-0.562004</td>\n",
       "      <td>-0.644060</td>\n",
       "      <td>-0.729103</td>\n",
       "      <td>-0.926198</td>\n",
       "    </tr>\n",
       "    <tr>\n",
       "      <th>1</th>\n",
       "      <td>-1.068314</td>\n",
       "      <td>-1.234940</td>\n",
       "      <td>-0.261729</td>\n",
       "      <td>-1.400684</td>\n",
       "    </tr>\n",
       "    <tr>\n",
       "      <th>2</th>\n",
       "      <td>-0.815159</td>\n",
       "      <td>-0.644060</td>\n",
       "      <td>-0.729103</td>\n",
       "      <td>-0.356814</td>\n",
       "    </tr>\n",
       "    <tr>\n",
       "      <th>3</th>\n",
       "      <td>0.450616</td>\n",
       "      <td>-0.053179</td>\n",
       "      <td>0.673018</td>\n",
       "      <td>-0.072122</td>\n",
       "    </tr>\n",
       "    <tr>\n",
       "      <th>4</th>\n",
       "      <td>-0.308849</td>\n",
       "      <td>0.242261</td>\n",
       "      <td>0.673018</td>\n",
       "      <td>0.212570</td>\n",
       "    </tr>\n",
       "  </tbody>\n",
       "</table>\n",
       "</div>"
      ],
      "text/plain": [
       "   Creativity  Mechanical Reasoning  Abstract Reasoning  Mathematics\n",
       "0   -0.562004             -0.644060           -0.729103    -0.926198\n",
       "1   -1.068314             -1.234940           -0.261729    -1.400684\n",
       "2   -0.815159             -0.644060           -0.729103    -0.356814\n",
       "3    0.450616             -0.053179            0.673018    -0.072122\n",
       "4   -0.308849              0.242261            0.673018     0.212570"
      ]
     },
     "execution_count": 10,
     "metadata": {},
     "output_type": "execute_result"
    }
   ],
   "source": [
    "Ydf_n = (Ydf-Ydf.mean())/(Ydf.std())\n",
    "Ydf_n.head()"
   ]
  },
  {
   "cell_type": "code",
   "execution_count": 11,
   "id": "504f6780",
   "metadata": {},
   "outputs": [],
   "source": [
    "model = CCA(n_components=3)\n",
    "model.fit(Xdf_n,Ydf_n)\n",
    "X_c, Y_c = model.transform(Xdf_n,Ydf_n)"
   ]
  },
  {
   "cell_type": "code",
   "execution_count": 12,
   "id": "968e216e",
   "metadata": {},
   "outputs": [
    {
     "data": {
      "text/html": [
       "<div>\n",
       "<style scoped>\n",
       "    .dataframe tbody tr th:only-of-type {\n",
       "        vertical-align: middle;\n",
       "    }\n",
       "\n",
       "    .dataframe tbody tr th {\n",
       "        vertical-align: top;\n",
       "    }\n",
       "\n",
       "    .dataframe thead th {\n",
       "        text-align: right;\n",
       "    }\n",
       "</style>\n",
       "<table border=\"1\" class=\"dataframe\">\n",
       "  <thead>\n",
       "    <tr style=\"text-align: right;\">\n",
       "      <th></th>\n",
       "      <th>CCAX1</th>\n",
       "      <th>CCAX2</th>\n",
       "      <th>CCAX3</th>\n",
       "      <th>CCAY1</th>\n",
       "      <th>CCAY2</th>\n",
       "      <th>CCAY3</th>\n",
       "    </tr>\n",
       "  </thead>\n",
       "  <tbody>\n",
       "    <tr>\n",
       "      <th>0</th>\n",
       "      <td>-1.564050</td>\n",
       "      <td>-0.126088</td>\n",
       "      <td>-0.258003</td>\n",
       "      <td>-1.300810</td>\n",
       "      <td>0.057473</td>\n",
       "      <td>0.073860</td>\n",
       "    </tr>\n",
       "    <tr>\n",
       "      <th>1</th>\n",
       "      <td>-2.248601</td>\n",
       "      <td>-0.142776</td>\n",
       "      <td>-0.016859</td>\n",
       "      <td>-1.867894</td>\n",
       "      <td>-0.467861</td>\n",
       "      <td>-0.381901</td>\n",
       "    </tr>\n",
       "    <tr>\n",
       "      <th>2</th>\n",
       "      <td>-1.071002</td>\n",
       "      <td>0.015345</td>\n",
       "      <td>-0.210480</td>\n",
       "      <td>-0.891390</td>\n",
       "      <td>0.427240</td>\n",
       "      <td>-0.075112</td>\n",
       "    </tr>\n",
       "    <tr>\n",
       "      <th>3</th>\n",
       "      <td>0.653156</td>\n",
       "      <td>-0.716058</td>\n",
       "      <td>0.097064</td>\n",
       "      <td>0.267683</td>\n",
       "      <td>-0.702360</td>\n",
       "      <td>0.043591</td>\n",
       "    </tr>\n",
       "    <tr>\n",
       "      <th>4</th>\n",
       "      <td>0.379167</td>\n",
       "      <td>-0.107791</td>\n",
       "      <td>-0.314408</td>\n",
       "      <td>0.280126</td>\n",
       "      <td>-0.098625</td>\n",
       "      <td>-0.663571</td>\n",
       "    </tr>\n",
       "  </tbody>\n",
       "</table>\n",
       "</div>"
      ],
      "text/plain": [
       "      CCAX1     CCAX2     CCAX3     CCAY1     CCAY2     CCAY3\n",
       "0 -1.564050 -0.126088 -0.258003 -1.300810  0.057473  0.073860\n",
       "1 -2.248601 -0.142776 -0.016859 -1.867894 -0.467861 -0.381901\n",
       "2 -1.071002  0.015345 -0.210480 -0.891390  0.427240 -0.075112\n",
       "3  0.653156 -0.716058  0.097064  0.267683 -0.702360  0.043591\n",
       "4  0.379167 -0.107791 -0.314408  0.280126 -0.098625 -0.663571"
      ]
     },
     "execution_count": 12,
     "metadata": {},
     "output_type": "execute_result"
    }
   ],
   "source": [
    "dataCCA = {\n",
    "    'CCAX1':X_c[:,0],\n",
    "    'CCAX2':X_c[:,1],\n",
    "    'CCAX3':X_c[:,2],\n",
    "    'CCAY1':Y_c[:,0],\n",
    "    'CCAY2':Y_c[:,1],\n",
    "    'CCAY3':Y_c[:,2],\n",
    "}\n",
    "dfCCA = pd.DataFrame(dataCCA)\n",
    "dfCCA.head()"
   ]
  },
  {
   "cell_type": "code",
   "execution_count": 13,
   "id": "5c1f7e67",
   "metadata": {},
   "outputs": [],
   "source": [
    "def plotHeat(corr,size=8):\n",
    "    plt.figure(figsize=[size,size])\n",
    "    mask = np.triu(np.ones_like(corr,dtype=bool))\n",
    "    sns.heatmap(corr.round(3),cmap=\"coolwarm\",annot=True,fmt='.1g',mask=mask,square=True)\n",
    "    plt.show()"
   ]
  },
  {
   "cell_type": "code",
   "execution_count": 14,
   "id": "45263b74",
   "metadata": {},
   "outputs": [
    {
     "data": {
      "image/png": "[encoded data removed]",
      "text/plain": [
       "<Figure size 576x576 with 2 Axes>"
      ]
     },
     "metadata": {
      "needs_background": "light"
     },
     "output_type": "display_data"
    }
   ],
   "source": [
    "corrCCA = dfCCA.corr()\n",
    "plotHeat(corrCCA)"
   ]
  },
  {
   "cell_type": "code",
   "execution_count": 15,
   "id": "321dfef5",
   "metadata": {},
   "outputs": [
    {
     "name": "stdout",
     "output_type": "stream",
     "text": [
      "<class 'pandas.core.frame.DataFrame'>\n",
      "RangeIndex: 50 entries, 0 to 49\n",
      "Data columns (total 6 columns):\n",
      " #   Column  Non-Null Count  Dtype  \n",
      "---  ------  --------------  -----  \n",
      " 0   CCAX1   50 non-null     float64\n",
      " 1   CCAX2   50 non-null     float64\n",
      " 2   CCAX3   50 non-null     float64\n",
      " 3   CCAY1   50 non-null     float64\n",
      " 4   CCAY2   50 non-null     float64\n",
      " 5   CCAY3   50 non-null     float64\n",
      "dtypes: float64(6)\n",
      "memory usage: 2.5 KB\n"
     ]
    }
   ],
   "source": [
    "dfCCA.info()"
   ]
  },
  {
   "cell_type": "code",
   "execution_count": 16,
   "id": "f905c512",
   "metadata": {},
   "outputs": [
    {
     "name": "stdout",
     "output_type": "stream",
     "text": [
      "<class 'pandas.core.frame.DataFrame'>\n",
      "Int64Index: 50 entries, 0 to 49\n",
      "Data columns (total 7 columns):\n",
      " #   Column                Non-Null Count  Dtype  \n",
      "---  ------                --------------  -----  \n",
      " 0   Sales Growth          50 non-null     float64\n",
      " 1   Sales Profitability   50 non-null     float64\n",
      " 2   New Account Sales     50 non-null     float64\n",
      " 3   Creativity            50 non-null     float64\n",
      " 4   Mechanical Reasoning  50 non-null     float64\n",
      " 5   Abstract Reasoning    50 non-null     float64\n",
      " 6   Mathematics           50 non-null     float64\n",
      "dtypes: float64(7)\n",
      "memory usage: 3.1 KB\n"
     ]
    }
   ],
   "source": [
    "df.info()"
   ]
  },
  {
   "cell_type": "code",
   "execution_count": 17,
   "id": "c46cc049",
   "metadata": {},
   "outputs": [
    {
     "data": {
      "text/html": [
       "<div>\n",
       "<style scoped>\n",
       "    .dataframe tbody tr th:only-of-type {\n",
       "        vertical-align: middle;\n",
       "    }\n",
       "\n",
       "    .dataframe tbody tr th {\n",
       "        vertical-align: top;\n",
       "    }\n",
       "\n",
       "    .dataframe thead th {\n",
       "        text-align: right;\n",
       "    }\n",
       "</style>\n",
       "<table border=\"1\" class=\"dataframe\">\n",
       "  <thead>\n",
       "    <tr style=\"text-align: right;\">\n",
       "      <th></th>\n",
       "      <th>Sales Growth</th>\n",
       "      <th>Sales Profitability</th>\n",
       "      <th>New Account Sales</th>\n",
       "      <th>Creativity</th>\n",
       "      <th>Mechanical Reasoning</th>\n",
       "      <th>Abstract Reasoning</th>\n",
       "      <th>Mathematics</th>\n",
       "      <th>CCAX1</th>\n",
       "      <th>CCAX2</th>\n",
       "      <th>CCAX3</th>\n",
       "      <th>CCAY1</th>\n",
       "      <th>CCAY2</th>\n",
       "      <th>CCAY3</th>\n",
       "    </tr>\n",
       "  </thead>\n",
       "  <tbody>\n",
       "    <tr>\n",
       "      <th>0</th>\n",
       "      <td>93.0</td>\n",
       "      <td>96.0</td>\n",
       "      <td>97.8</td>\n",
       "      <td>9.0</td>\n",
       "      <td>12.0</td>\n",
       "      <td>9.0</td>\n",
       "      <td>20.0</td>\n",
       "      <td>-1.564050</td>\n",
       "      <td>-0.126088</td>\n",
       "      <td>-0.258003</td>\n",
       "      <td>-1.300810</td>\n",
       "      <td>0.057473</td>\n",
       "      <td>0.073860</td>\n",
       "    </tr>\n",
       "    <tr>\n",
       "      <th>1</th>\n",
       "      <td>88.8</td>\n",
       "      <td>91.8</td>\n",
       "      <td>96.8</td>\n",
       "      <td>7.0</td>\n",
       "      <td>10.0</td>\n",
       "      <td>10.0</td>\n",
       "      <td>15.0</td>\n",
       "      <td>-2.248601</td>\n",
       "      <td>-0.142776</td>\n",
       "      <td>-0.016859</td>\n",
       "      <td>-1.867894</td>\n",
       "      <td>-0.467861</td>\n",
       "      <td>-0.381901</td>\n",
       "    </tr>\n",
       "    <tr>\n",
       "      <th>2</th>\n",
       "      <td>95.0</td>\n",
       "      <td>100.3</td>\n",
       "      <td>99.0</td>\n",
       "      <td>8.0</td>\n",
       "      <td>12.0</td>\n",
       "      <td>9.0</td>\n",
       "      <td>26.0</td>\n",
       "      <td>-1.071002</td>\n",
       "      <td>0.015345</td>\n",
       "      <td>-0.210480</td>\n",
       "      <td>-0.891390</td>\n",
       "      <td>0.427240</td>\n",
       "      <td>-0.075112</td>\n",
       "    </tr>\n",
       "    <tr>\n",
       "      <th>3</th>\n",
       "      <td>101.3</td>\n",
       "      <td>103.8</td>\n",
       "      <td>106.8</td>\n",
       "      <td>13.0</td>\n",
       "      <td>14.0</td>\n",
       "      <td>12.0</td>\n",
       "      <td>29.0</td>\n",
       "      <td>0.653156</td>\n",
       "      <td>-0.716058</td>\n",
       "      <td>0.097064</td>\n",
       "      <td>0.267683</td>\n",
       "      <td>-0.702360</td>\n",
       "      <td>0.043591</td>\n",
       "    </tr>\n",
       "    <tr>\n",
       "      <th>4</th>\n",
       "      <td>102.0</td>\n",
       "      <td>107.8</td>\n",
       "      <td>103.0</td>\n",
       "      <td>10.0</td>\n",
       "      <td>15.0</td>\n",
       "      <td>12.0</td>\n",
       "      <td>32.0</td>\n",
       "      <td>0.379167</td>\n",
       "      <td>-0.107791</td>\n",
       "      <td>-0.314408</td>\n",
       "      <td>0.280126</td>\n",
       "      <td>-0.098625</td>\n",
       "      <td>-0.663571</td>\n",
       "    </tr>\n",
       "  </tbody>\n",
       "</table>\n",
       "</div>"
      ],
      "text/plain": [
       "   Sales Growth  Sales Profitability  New Account Sales  Creativity  \\\n",
       "0          93.0                 96.0               97.8         9.0   \n",
       "1          88.8                 91.8               96.8         7.0   \n",
       "2          95.0                100.3               99.0         8.0   \n",
       "3         101.3                103.8              106.8        13.0   \n",
       "4         102.0                107.8              103.0        10.0   \n",
       "\n",
       "   Mechanical Reasoning  Abstract Reasoning  Mathematics     CCAX1     CCAX2  \\\n",
       "0                  12.0                 9.0         20.0 -1.564050 -0.126088   \n",
       "1                  10.0                10.0         15.0 -2.248601 -0.142776   \n",
       "2                  12.0                 9.0         26.0 -1.071002  0.015345   \n",
       "3                  14.0                12.0         29.0  0.653156 -0.716058   \n",
       "4                  15.0                12.0         32.0  0.379167 -0.107791   \n",
       "\n",
       "      CCAX3     CCAY1     CCAY2     CCAY3  \n",
       "0 -0.258003 -1.300810  0.057473  0.073860  \n",
       "1 -0.016859 -1.867894 -0.467861 -0.381901  \n",
       "2 -0.210480 -0.891390  0.427240 -0.075112  \n",
       "3  0.097064  0.267683 -0.702360  0.043591  \n",
       "4 -0.314408  0.280126 -0.098625 -0.663571  "
      ]
     },
     "execution_count": 17,
     "metadata": {},
     "output_type": "execute_result"
    }
   ],
   "source": [
    "result = pd.concat([df, dfCCA], axis=1, join='inner')\n",
    "result.head()"
   ]
  },
  {
   "cell_type": "code",
   "execution_count": 18,
   "id": "514f18b5",
   "metadata": {},
   "outputs": [
    {
     "name": "stdout",
     "output_type": "stream",
     "text": [
      "<class 'pandas.core.frame.DataFrame'>\n",
      "Int64Index: 50 entries, 0 to 49\n",
      "Data columns (total 13 columns):\n",
      " #   Column                Non-Null Count  Dtype  \n",
      "---  ------                --------------  -----  \n",
      " 0   Sales Growth          50 non-null     float64\n",
      " 1   Sales Profitability   50 non-null     float64\n",
      " 2   New Account Sales     50 non-null     float64\n",
      " 3   Creativity            50 non-null     float64\n",
      " 4   Mechanical Reasoning  50 non-null     float64\n",
      " 5   Abstract Reasoning    50 non-null     float64\n",
      " 6   Mathematics           50 non-null     float64\n",
      " 7   CCAX1                 50 non-null     float64\n",
      " 8   CCAX2                 50 non-null     float64\n",
      " 9   CCAX3                 50 non-null     float64\n",
      " 10  CCAY1                 50 non-null     float64\n",
      " 11  CCAY2                 50 non-null     float64\n",
      " 12  CCAY3                 50 non-null     float64\n",
      "dtypes: float64(13)\n",
      "memory usage: 7.5 KB\n"
     ]
    }
   ],
   "source": [
    "result.info()"
   ]
  },
  {
   "cell_type": "code",
   "execution_count": 19,
   "id": "f54cf783",
   "metadata": {},
   "outputs": [
    {
     "data": {
      "image/png": "[encoded data removed]",
      "text/plain": [
       "<Figure size 864x864 with 2 Axes>"
      ]
     },
     "metadata": {
      "needs_background": "light"
     },
     "output_type": "display_data"
    }
   ],
   "source": [
    "corrCCA = result.corr()\n",
    "plotHeat(corrCCA,12)"
   ]
  },
  {
   "cell_type": "code",
   "execution_count": 20,
   "id": "d5ca8545",
   "metadata": {},
   "outputs": [
    {
     "data": {
      "text/html": [
       "<div>\n",
       "<style scoped>\n",
       "    .dataframe tbody tr th:only-of-type {\n",
       "        vertical-align: middle;\n",
       "    }\n",
       "\n",
       "    .dataframe tbody tr th {\n",
       "        vertical-align: top;\n",
       "    }\n",
       "\n",
       "    .dataframe thead th {\n",
       "        text-align: right;\n",
       "    }\n",
       "</style>\n",
       "<table border=\"1\" class=\"dataframe\">\n",
       "  <thead>\n",
       "    <tr style=\"text-align: right;\">\n",
       "      <th></th>\n",
       "      <th>Sales Growth</th>\n",
       "      <th>Sales Profitability</th>\n",
       "      <th>New Account Sales</th>\n",
       "      <th>CCAX1</th>\n",
       "      <th>CCAX2</th>\n",
       "      <th>CCAX3</th>\n",
       "    </tr>\n",
       "  </thead>\n",
       "  <tbody>\n",
       "    <tr>\n",
       "      <th>0</th>\n",
       "      <td>-0.795383</td>\n",
       "      <td>-1.049157</td>\n",
       "      <td>-1.063194</td>\n",
       "      <td>-1.564050</td>\n",
       "      <td>-0.126088</td>\n",
       "      <td>-0.258003</td>\n",
       "    </tr>\n",
       "    <tr>\n",
       "      <th>1</th>\n",
       "      <td>-1.367797</td>\n",
       "      <td>-1.464000</td>\n",
       "      <td>-1.275408</td>\n",
       "      <td>-2.248601</td>\n",
       "      <td>-0.142776</td>\n",
       "      <td>-0.016859</td>\n",
       "    </tr>\n",
       "    <tr>\n",
       "      <th>2</th>\n",
       "      <td>-0.522805</td>\n",
       "      <td>-0.624437</td>\n",
       "      <td>-0.808536</td>\n",
       "      <td>-1.071002</td>\n",
       "      <td>0.015345</td>\n",
       "      <td>-0.210480</td>\n",
       "    </tr>\n",
       "    <tr>\n",
       "      <th>3</th>\n",
       "      <td>0.335816</td>\n",
       "      <td>-0.278735</td>\n",
       "      <td>0.846735</td>\n",
       "      <td>0.653156</td>\n",
       "      <td>-0.716058</td>\n",
       "      <td>0.097064</td>\n",
       "    </tr>\n",
       "    <tr>\n",
       "      <th>4</th>\n",
       "      <td>0.431219</td>\n",
       "      <td>0.116354</td>\n",
       "      <td>0.040321</td>\n",
       "      <td>0.379167</td>\n",
       "      <td>-0.107791</td>\n",
       "      <td>-0.314408</td>\n",
       "    </tr>\n",
       "  </tbody>\n",
       "</table>\n",
       "</div>"
      ],
      "text/plain": [
       "   Sales Growth  Sales Profitability  New Account Sales     CCAX1     CCAX2  \\\n",
       "0     -0.795383            -1.049157          -1.063194 -1.564050 -0.126088   \n",
       "1     -1.367797            -1.464000          -1.275408 -2.248601 -0.142776   \n",
       "2     -0.522805            -0.624437          -0.808536 -1.071002  0.015345   \n",
       "3      0.335816            -0.278735           0.846735  0.653156 -0.716058   \n",
       "4      0.431219             0.116354           0.040321  0.379167 -0.107791   \n",
       "\n",
       "      CCAX3  \n",
       "0 -0.258003  \n",
       "1 -0.016859  \n",
       "2 -0.210480  \n",
       "3  0.097064  \n",
       "4 -0.314408  "
      ]
     },
     "execution_count": 20,
     "metadata": {},
     "output_type": "execute_result"
    }
   ],
   "source": [
    "dataCCAX = {\n",
    "    'CCAX1':X_c[:,0],\n",
    "    'CCAX2':X_c[:,1],\n",
    "    'CCAX3':X_c[:,2],\n",
    "}\n",
    "CCAX = pd.DataFrame(dataCCAX)\n",
    "CCAX = pd.concat([Xdf_n, CCAX], axis=1, join='inner')\n",
    "CCAX.head()"
   ]
  },
  {
   "cell_type": "code",
   "execution_count": 21,
   "id": "a496e024",
   "metadata": {},
   "outputs": [
    {
     "data": {
      "text/html": [
       "<div>\n",
       "<style scoped>\n",
       "    .dataframe tbody tr th:only-of-type {\n",
       "        vertical-align: middle;\n",
       "    }\n",
       "\n",
       "    .dataframe tbody tr th {\n",
       "        vertical-align: top;\n",
       "    }\n",
       "\n",
       "    .dataframe thead th {\n",
       "        text-align: right;\n",
       "    }\n",
       "</style>\n",
       "<table border=\"1\" class=\"dataframe\">\n",
       "  <thead>\n",
       "    <tr style=\"text-align: right;\">\n",
       "      <th></th>\n",
       "      <th>Creativity</th>\n",
       "      <th>Mechanical Reasoning</th>\n",
       "      <th>Abstract Reasoning</th>\n",
       "      <th>Mathematics</th>\n",
       "      <th>CCAY1</th>\n",
       "      <th>CCAY2</th>\n",
       "      <th>CCAY3</th>\n",
       "    </tr>\n",
       "  </thead>\n",
       "  <tbody>\n",
       "    <tr>\n",
       "      <th>0</th>\n",
       "      <td>-0.562004</td>\n",
       "      <td>-0.644060</td>\n",
       "      <td>-0.729103</td>\n",
       "      <td>-0.926198</td>\n",
       "      <td>-1.300810</td>\n",
       "      <td>0.057473</td>\n",
       "      <td>0.073860</td>\n",
       "    </tr>\n",
       "    <tr>\n",
       "      <th>1</th>\n",
       "      <td>-1.068314</td>\n",
       "      <td>-1.234940</td>\n",
       "      <td>-0.261729</td>\n",
       "      <td>-1.400684</td>\n",
       "      <td>-1.867894</td>\n",
       "      <td>-0.467861</td>\n",
       "      <td>-0.381901</td>\n",
       "    </tr>\n",
       "    <tr>\n",
       "      <th>2</th>\n",
       "      <td>-0.815159</td>\n",
       "      <td>-0.644060</td>\n",
       "      <td>-0.729103</td>\n",
       "      <td>-0.356814</td>\n",
       "      <td>-0.891390</td>\n",
       "      <td>0.427240</td>\n",
       "      <td>-0.075112</td>\n",
       "    </tr>\n",
       "    <tr>\n",
       "      <th>3</th>\n",
       "      <td>0.450616</td>\n",
       "      <td>-0.053179</td>\n",
       "      <td>0.673018</td>\n",
       "      <td>-0.072122</td>\n",
       "      <td>0.267683</td>\n",
       "      <td>-0.702360</td>\n",
       "      <td>0.043591</td>\n",
       "    </tr>\n",
       "    <tr>\n",
       "      <th>4</th>\n",
       "      <td>-0.308849</td>\n",
       "      <td>0.242261</td>\n",
       "      <td>0.673018</td>\n",
       "      <td>0.212570</td>\n",
       "      <td>0.280126</td>\n",
       "      <td>-0.098625</td>\n",
       "      <td>-0.663571</td>\n",
       "    </tr>\n",
       "  </tbody>\n",
       "</table>\n",
       "</div>"
      ],
      "text/plain": [
       "   Creativity  Mechanical Reasoning  Abstract Reasoning  Mathematics  \\\n",
       "0   -0.562004             -0.644060           -0.729103    -0.926198   \n",
       "1   -1.068314             -1.234940           -0.261729    -1.400684   \n",
       "2   -0.815159             -0.644060           -0.729103    -0.356814   \n",
       "3    0.450616             -0.053179            0.673018    -0.072122   \n",
       "4   -0.308849              0.242261            0.673018     0.212570   \n",
       "\n",
       "      CCAY1     CCAY2     CCAY3  \n",
       "0 -1.300810  0.057473  0.073860  \n",
       "1 -1.867894 -0.467861 -0.381901  \n",
       "2 -0.891390  0.427240 -0.075112  \n",
       "3  0.267683 -0.702360  0.043591  \n",
       "4  0.280126 -0.098625 -0.663571  "
      ]
     },
     "execution_count": 21,
     "metadata": {},
     "output_type": "execute_result"
    }
   ],
   "source": [
    "dataCCAY = {\n",
    "    'CCAY1':Y_c[:,0],\n",
    "    'CCAY2':Y_c[:,1],\n",
    "    'CCAY3':Y_c[:,2],\n",
    "}\n",
    "CCAY = pd.DataFrame(dataCCAY)\n",
    "CCAY = pd.concat([Ydf_n, CCAY], axis=1, join='inner')\n",
    "CCAY.head()"
   ]
  },
  {
   "cell_type": "code",
   "execution_count": 22,
   "id": "2df0271f",
   "metadata": {},
   "outputs": [
    {
     "data": {
      "image/png": "[encoded data removed]",
      "text/plain": [
       "<Figure size 576x576 with 2 Axes>"
      ]
     },
     "metadata": {
      "needs_background": "light"
     },
     "output_type": "display_data"
    }
   ],
   "source": [
    "corrX = CCAX.corr()\n",
    "plotHeat(corrX)"
   ]
  },
  {
   "cell_type": "code",
   "execution_count": 23,
   "id": "62c96163",
   "metadata": {},
   "outputs": [
    {
     "data": {
      "image/png": "[encoded data removed]",
      "text/plain": [
       "<Figure size 576x576 with 2 Axes>"
      ]
     },
     "metadata": {
      "needs_background": "light"
     },
     "output_type": "display_data"
    }
   ],
   "source": [
    "corrY = CCAY.corr()\n",
    "plotHeat(corrY)"
   ]
  },
  {
   "cell_type": "code",
   "execution_count": 24,
   "id": "3594fd82",
   "metadata": {},
   "outputs": [
    {
     "data": {
      "image/png": "[encoded data removed]",
      "text/plain": [
       "<Figure size 576x576 with 1 Axes>"
      ]
     },
     "metadata": {
      "needs_background": "light"
     },
     "output_type": "display_data"
    }
   ],
   "source": [
    "plt.figure(figsize=[8,8])\n",
    "sns.scatterplot(x=\"CCAX1\",y=\"CCAY1\", hue=\"Mathematics\", data=result)\n",
    "plt.grid()\n",
    "plt.show()"
   ]
  },
  {
   "cell_type": "code",
   "execution_count": 25,
   "id": "d217912e",
   "metadata": {},
   "outputs": [
    {
     "data": {
      "image/png": "[encoded data removed]",
      "text/plain": [
       "<Figure size 576x576 with 1 Axes>"
      ]
     },
     "metadata": {
      "needs_background": "light"
     },
     "output_type": "display_data"
    }
   ],
   "source": [
    "plt.figure(figsize=[8,8])\n",
    "sns.scatterplot(x=\"CCAX1\",y=\"CCAY1\", hue=\"Sales Growth\", data=result)\n",
    "plt.grid()\n",
    "plt.show()"
   ]
  },
  {
   "cell_type": "code",
   "execution_count": 26,
   "id": "0a85a535",
   "metadata": {},
   "outputs": [
    {
     "data": {
      "image/png": "[encoded data removed]",
      "text/plain": [
       "<Figure size 576x576 with 1 Axes>"
      ]
     },
     "metadata": {
      "needs_background": "light"
     },
     "output_type": "display_data"
    }
   ],
   "source": [
    "plt.figure(figsize=[8,8])\n",
    "sns.scatterplot(x=\"CCAX1\",y=\"CCAY1\", hue=\"New Account Sales\", data=result)\n",
    "plt.grid()\n",
    "plt.show()"
   ]
  },
  {
   "cell_type": "code",
   "execution_count": 27,
   "id": "c6480474",
   "metadata": {},
   "outputs": [
    {
     "data": {
      "image/png": "[encoded data removed]",
      "text/plain": [
       "<Figure size 576x576 with 1 Axes>"
      ]
     },
     "metadata": {
      "needs_background": "light"
     },
     "output_type": "display_data"
    }
   ],
   "source": [
    "plt.figure(figsize=[8,8])\n",
    "sns.scatterplot(x=\"CCAX1\",y=\"CCAY1\", hue=\"Sales Profitability\", data=result)\n",
    "plt.grid()\n",
    "plt.show()"
   ]
  },
  {
   "cell_type": "code",
   "execution_count": null,
   "id": "b60af44d",
   "metadata": {},
   "outputs": [],
   "source": []
  },
  {
   "cell_type": "code",
   "execution_count": null,
   "id": "1dd377ae",
   "metadata": {},
   "outputs": [],
   "source": []
  },
  {
   "cell_type": "code",
   "execution_count": null,
   "id": "7917d009",
   "metadata": {},
   "outputs": [],
   "source": []
  },
  {
   "cell_type": "code",
   "execution_count": null,
   "id": "dc581515",
   "metadata": {},
   "outputs": [],
   "source": []
  }
 ],
 "metadata": {
  "kernelspec": {
   "display_name": "Python 3",
   "language": "python",
   "name": "python3"
  },
  "language_info": {
   "codemirror_mode": {
    "name": "ipython",
    "version": 3
   },
   "file_extension": ".py",
   "mimetype": "text/x-python",
   "name": "python",
   "nbconvert_exporter": "python",
   "pygments_lexer": "ipython3",
   "version": "3.8.8"
  }
 },
 "nbformat": 4,
 "nbformat_minor": 5
}
